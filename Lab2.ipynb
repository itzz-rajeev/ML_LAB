{
 "cells": [
  {
   "cell_type": "code",
   "execution_count": 2,
   "id": "0dcf1c56-969c-49f3-93b3-72631480b69c",
   "metadata": {},
   "outputs": [
    {
     "name": "stdout",
     "output_type": "stream",
     "text": [
      "    Manufacturer              Model  Sales in thousands 4-year resale value  \\\n",
      "0  Acura          Integra                        16.919               16.36   \n",
      "1  Acura          TL                             39.384              19.875   \n",
      "2  Acura          CL                             14.114              18.225   \n",
      "3  Acura          RL                              8.588              29.725   \n",
      "4  Audi           A4                             20.397              22.255   \n",
      "\n",
      "  Vehicle type Price in thousands Engine size Horsepower Wheelbase Width  \\\n",
      "0    Passenger               21.5         1.8        140     101.2  67.3   \n",
      "1    Passenger               28.4         3.2        225     108.1  70.3   \n",
      "2    Passenger                  .         3.2        225     106.9  70.6   \n",
      "3    Passenger                 42         3.5        210     114.6  71.4   \n",
      "4    Passenger              23.99         1.8        150     102.6  68.2   \n",
      "\n",
      "  Length Curb weight Fuel capacity Fuel efficiency Latest Launch  \n",
      "0  172.4       2.639          13.2              28      2-Feb-14  \n",
      "1  192.9       3.517          17.2              25      6-Mar-15  \n",
      "2    192        3.47          17.2              26      1-Apr-14  \n",
      "3  196.6        3.85            18              22      3-Oct-15  \n",
      "4    178       2.998          16.4              27     10-Aug-15  \n"
     ]
    }
   ],
   "source": [
    "import pandas as pd\n",
    "df=pd.read_csv(\"Car_sales.csv\")\n",
    "print(df.head())"
   ]
  },
  {
   "cell_type": "code",
   "execution_count": 3,
   "id": "11a57b69-ff87-4740-897a-7499e8004664",
   "metadata": {},
   "outputs": [
    {
     "name": "stdout",
     "output_type": "stream",
     "text": [
      "Number of Attributes: 15\n"
     ]
    }
   ],
   "source": [
    "num_attributes=df.shape[1]\n",
    "print(\"Number of Attributes:\",num_attributes)"
   ]
  },
  {
   "cell_type": "code",
   "execution_count": 4,
   "id": "2bf507f9-8fe6-4310-b69f-13267ac19bc2",
   "metadata": {},
   "outputs": [
    {
     "name": "stdout",
     "output_type": "stream",
     "text": [
      "<class 'pandas.core.frame.DataFrame'>\n",
      "RangeIndex: 157 entries, 0 to 156\n",
      "Data columns (total 15 columns):\n",
      " #   Column               Non-Null Count  Dtype  \n",
      "---  ------               --------------  -----  \n",
      " 0   Manufacturer         157 non-null    object \n",
      " 1   Model                157 non-null    object \n",
      " 2   Sales in thousands   157 non-null    float64\n",
      " 3   4-year resale value  157 non-null    object \n",
      " 4   Vehicle type         157 non-null    object \n",
      " 5   Price in thousands   157 non-null    object \n",
      " 6   Engine size          157 non-null    object \n",
      " 7   Horsepower           157 non-null    object \n",
      " 8   Wheelbase            157 non-null    object \n",
      " 9   Width                157 non-null    object \n",
      " 10  Length               157 non-null    object \n",
      " 11  Curb weight          157 non-null    object \n",
      " 12  Fuel capacity        157 non-null    object \n",
      " 13  Fuel efficiency      157 non-null    object \n",
      " 14  Latest Launch        157 non-null    object \n",
      "dtypes: float64(1), object(14)\n",
      "memory usage: 18.5+ KB\n",
      "None\n"
     ]
    }
   ],
   "source": [
    "print(df.info())"
   ]
  },
  {
   "cell_type": "code",
   "execution_count": 8,
   "id": "78aa1212-9fec-4abe-a203-63da474aa498",
   "metadata": {},
   "outputs": [
    {
     "name": "stdout",
     "output_type": "stream",
     "text": [
      "(157, 15)\n"
     ]
    }
   ],
   "source": [
    "num_rows=df.shape\n",
    "print(num_rows)\n"
   ]
  },
  {
   "cell_type": "code",
   "execution_count": 10,
   "id": "d2dd970e-d971-4ac3-8dd6-bebcb5bcd218",
   "metadata": {},
   "outputs": [
    {
     "name": "stdout",
     "output_type": "stream",
     "text": [
      "157\n"
     ]
    }
   ],
   "source": [
    "print(df.shape[0])"
   ]
  },
  {
   "cell_type": "code",
   "execution_count": 11,
   "id": "09245bcd-9b51-4251-90ee-b7fe01e4475f",
   "metadata": {},
   "outputs": [
    {
     "name": "stdout",
     "output_type": "stream",
     "text": [
      "157\n"
     ]
    }
   ],
   "source": [
    "print(df.shape[0])"
   ]
  },
  {
   "cell_type": "code",
   "execution_count": 12,
   "id": "fbd487ae-791c-4c42-b03a-e859e7b2a8bd",
   "metadata": {},
   "outputs": [
    {
     "name": "stdout",
     "output_type": "stream",
     "text": [
      "Number of rows before removing duplicates: 157\n",
      "Number of rows after removing duplicates: 157\n"
     ]
    }
   ],
   "source": [
    "df_cleaned = df.drop_duplicates()\n",
    "print(\"Number of rows before removing duplicates:\", df.shape[0])\n",
    "print(\"Number of rows after removing duplicates:\",\n",
    "df_cleaned.shape[0])"
   ]
  },
  {
   "cell_type": "code",
   "execution_count": 13,
   "id": "2b32173f-48f9-4b61-96a9-a511c481e83d",
   "metadata": {},
   "outputs": [
    {
     "name": "stdout",
     "output_type": "stream",
     "text": [
      "       Sales in thousands\n",
      "count          157.000000\n",
      "mean            52.998076\n",
      "std             68.029422\n",
      "min              0.110000\n",
      "25%             14.114000\n",
      "50%             29.450000\n",
      "75%             67.956000\n",
      "max            540.561000\n"
     ]
    }
   ],
   "source": [
    "print(df.describe())"
   ]
  },
  {
   "cell_type": "code",
   "execution_count": null,
   "id": "6a688e10-6e6b-4d36-95c2-b76a7d25d4ac",
   "metadata": {},
   "outputs": [],
   "source": []
  },
  {
   "cell_type": "code",
   "execution_count": 14,
   "id": "8896c0ef-3467-4ad1-b2b1-47cc062a0c50",
   "metadata": {},
   "outputs": [
    {
     "name": "stdout",
     "output_type": "stream",
     "text": [
      "Number of missing values in each column:\n",
      "Manufacturer           0\n",
      "Model                  0\n",
      "Sales in thousands     0\n",
      "4-year resale value    0\n",
      "Vehicle type           0\n",
      "Price in thousands     0\n",
      "Engine size            0\n",
      "Horsepower             0\n",
      "Wheelbase              0\n",
      "Width                  0\n",
      "Length                 0\n",
      "Curb weight            0\n",
      "Fuel capacity          0\n",
      "Fuel efficiency        0\n",
      "Latest Launch          0\n",
      "dtype: int64\n"
     ]
    }
   ],
   "source": [
    "print(\"Number of missing values in each column:\")\n",
    "print(df.isnull().sum())"
   ]
  },
  {
   "cell_type": "code",
   "execution_count": 15,
   "id": "3ea90c80-be96-4232-8fea-5a3b29504b90",
   "metadata": {},
   "outputs": [
    {
     "name": "stdout",
     "output_type": "stream",
     "text": [
      "Manufacturer\n"
     ]
    }
   ],
   "source": [
    "print(df.isnull().sum().idxmax())"
   ]
  },
  {
   "cell_type": "code",
   "execution_count": 16,
   "id": "8971d634-2cc0-41f9-af49-fb6cf04d305e",
   "metadata": {},
   "outputs": [
    {
     "ename": "NameError",
     "evalue": "name 'column_to_drop' is not defined",
     "output_type": "error",
     "traceback": [
      "\u001b[0;31m---------------------------------------------------------------------------\u001b[0m",
      "\u001b[0;31mNameError\u001b[0m                                 Traceback (most recent call last)",
      "Cell \u001b[0;32mIn[16], line 1\u001b[0m\n\u001b[0;32m----> 1\u001b[0m df\u001b[38;5;241m.\u001b[39mdrop(columns\u001b[38;5;241m=\u001b[39m[column_to_drop])\n",
      "\u001b[0;31mNameError\u001b[0m: name 'column_to_drop' is not defined"
     ]
    }
   ],
   "source": [
    "df.drop(columns=[column_to_drop])"
   ]
  },
  {
   "cell_type": "code",
   "execution_count": 17,
   "id": "c82f9840-cb38-415a-82f6-34ebd7c3fe93",
   "metadata": {},
   "outputs": [
    {
     "data": {
      "text/html": [
       "<div>\n",
       "<style scoped>\n",
       "    .dataframe tbody tr th:only-of-type {\n",
       "        vertical-align: middle;\n",
       "    }\n",
       "\n",
       "    .dataframe tbody tr th {\n",
       "        vertical-align: top;\n",
       "    }\n",
       "\n",
       "    .dataframe thead th {\n",
       "        text-align: right;\n",
       "    }\n",
       "</style>\n",
       "<table border=\"1\" class=\"dataframe\">\n",
       "  <thead>\n",
       "    <tr style=\"text-align: right;\">\n",
       "      <th></th>\n",
       "      <th>Model</th>\n",
       "      <th>Sales in thousands</th>\n",
       "      <th>4-year resale value</th>\n",
       "      <th>Vehicle type</th>\n",
       "      <th>Price in thousands</th>\n",
       "      <th>Engine size</th>\n",
       "      <th>Horsepower</th>\n",
       "      <th>Wheelbase</th>\n",
       "      <th>Width</th>\n",
       "      <th>Length</th>\n",
       "      <th>Curb weight</th>\n",
       "      <th>Fuel capacity</th>\n",
       "      <th>Fuel efficiency</th>\n",
       "      <th>Latest Launch</th>\n",
       "    </tr>\n",
       "  </thead>\n",
       "  <tbody>\n",
       "    <tr>\n",
       "      <th>0</th>\n",
       "      <td>Integra</td>\n",
       "      <td>16.919</td>\n",
       "      <td>16.36</td>\n",
       "      <td>Passenger</td>\n",
       "      <td>21.5</td>\n",
       "      <td>1.8</td>\n",
       "      <td>140</td>\n",
       "      <td>101.2</td>\n",
       "      <td>67.3</td>\n",
       "      <td>172.4</td>\n",
       "      <td>2.639</td>\n",
       "      <td>13.2</td>\n",
       "      <td>28</td>\n",
       "      <td>2-Feb-14</td>\n",
       "    </tr>\n",
       "    <tr>\n",
       "      <th>1</th>\n",
       "      <td>TL</td>\n",
       "      <td>39.384</td>\n",
       "      <td>19.875</td>\n",
       "      <td>Passenger</td>\n",
       "      <td>28.4</td>\n",
       "      <td>3.2</td>\n",
       "      <td>225</td>\n",
       "      <td>108.1</td>\n",
       "      <td>70.3</td>\n",
       "      <td>192.9</td>\n",
       "      <td>3.517</td>\n",
       "      <td>17.2</td>\n",
       "      <td>25</td>\n",
       "      <td>6-Mar-15</td>\n",
       "    </tr>\n",
       "    <tr>\n",
       "      <th>2</th>\n",
       "      <td>CL</td>\n",
       "      <td>14.114</td>\n",
       "      <td>18.225</td>\n",
       "      <td>Passenger</td>\n",
       "      <td>.</td>\n",
       "      <td>3.2</td>\n",
       "      <td>225</td>\n",
       "      <td>106.9</td>\n",
       "      <td>70.6</td>\n",
       "      <td>192</td>\n",
       "      <td>3.47</td>\n",
       "      <td>17.2</td>\n",
       "      <td>26</td>\n",
       "      <td>1-Apr-14</td>\n",
       "    </tr>\n",
       "    <tr>\n",
       "      <th>3</th>\n",
       "      <td>RL</td>\n",
       "      <td>8.588</td>\n",
       "      <td>29.725</td>\n",
       "      <td>Passenger</td>\n",
       "      <td>42</td>\n",
       "      <td>3.5</td>\n",
       "      <td>210</td>\n",
       "      <td>114.6</td>\n",
       "      <td>71.4</td>\n",
       "      <td>196.6</td>\n",
       "      <td>3.85</td>\n",
       "      <td>18</td>\n",
       "      <td>22</td>\n",
       "      <td>3-Oct-15</td>\n",
       "    </tr>\n",
       "    <tr>\n",
       "      <th>4</th>\n",
       "      <td>A4</td>\n",
       "      <td>20.397</td>\n",
       "      <td>22.255</td>\n",
       "      <td>Passenger</td>\n",
       "      <td>23.99</td>\n",
       "      <td>1.8</td>\n",
       "      <td>150</td>\n",
       "      <td>102.6</td>\n",
       "      <td>68.2</td>\n",
       "      <td>178</td>\n",
       "      <td>2.998</td>\n",
       "      <td>16.4</td>\n",
       "      <td>27</td>\n",
       "      <td>10-Aug-15</td>\n",
       "    </tr>\n",
       "    <tr>\n",
       "      <th>...</th>\n",
       "      <td>...</td>\n",
       "      <td>...</td>\n",
       "      <td>...</td>\n",
       "      <td>...</td>\n",
       "      <td>...</td>\n",
       "      <td>...</td>\n",
       "      <td>...</td>\n",
       "      <td>...</td>\n",
       "      <td>...</td>\n",
       "      <td>...</td>\n",
       "      <td>...</td>\n",
       "      <td>...</td>\n",
       "      <td>...</td>\n",
       "      <td>...</td>\n",
       "    </tr>\n",
       "    <tr>\n",
       "      <th>152</th>\n",
       "      <td>V40</td>\n",
       "      <td>3.545</td>\n",
       "      <td>.</td>\n",
       "      <td>Passenger</td>\n",
       "      <td>24.4</td>\n",
       "      <td>1.9</td>\n",
       "      <td>160</td>\n",
       "      <td>100.5</td>\n",
       "      <td>67.6</td>\n",
       "      <td>176.6</td>\n",
       "      <td>3.042</td>\n",
       "      <td>15.8</td>\n",
       "      <td>25</td>\n",
       "      <td>21-Sep-15</td>\n",
       "    </tr>\n",
       "    <tr>\n",
       "      <th>153</th>\n",
       "      <td>S70</td>\n",
       "      <td>15.245</td>\n",
       "      <td>.</td>\n",
       "      <td>Passenger</td>\n",
       "      <td>27.5</td>\n",
       "      <td>2.4</td>\n",
       "      <td>168</td>\n",
       "      <td>104.9</td>\n",
       "      <td>69.3</td>\n",
       "      <td>185.9</td>\n",
       "      <td>3.208</td>\n",
       "      <td>17.9</td>\n",
       "      <td>25</td>\n",
       "      <td>24-Nov-14</td>\n",
       "    </tr>\n",
       "    <tr>\n",
       "      <th>154</th>\n",
       "      <td>V70</td>\n",
       "      <td>17.531</td>\n",
       "      <td>.</td>\n",
       "      <td>Passenger</td>\n",
       "      <td>28.8</td>\n",
       "      <td>2.4</td>\n",
       "      <td>168</td>\n",
       "      <td>104.9</td>\n",
       "      <td>69.3</td>\n",
       "      <td>186.2</td>\n",
       "      <td>3.259</td>\n",
       "      <td>17.9</td>\n",
       "      <td>25</td>\n",
       "      <td>25-Jun-15</td>\n",
       "    </tr>\n",
       "    <tr>\n",
       "      <th>155</th>\n",
       "      <td>C70</td>\n",
       "      <td>3.493</td>\n",
       "      <td>.</td>\n",
       "      <td>Passenger</td>\n",
       "      <td>45.5</td>\n",
       "      <td>2.3</td>\n",
       "      <td>236</td>\n",
       "      <td>104.9</td>\n",
       "      <td>71.5</td>\n",
       "      <td>185.7</td>\n",
       "      <td>3.601</td>\n",
       "      <td>18.5</td>\n",
       "      <td>23</td>\n",
       "      <td>26-Apr-15</td>\n",
       "    </tr>\n",
       "    <tr>\n",
       "      <th>156</th>\n",
       "      <td>S80</td>\n",
       "      <td>18.969</td>\n",
       "      <td>.</td>\n",
       "      <td>Passenger</td>\n",
       "      <td>36</td>\n",
       "      <td>2.9</td>\n",
       "      <td>201</td>\n",
       "      <td>109.9</td>\n",
       "      <td>72.1</td>\n",
       "      <td>189.8</td>\n",
       "      <td>3.6</td>\n",
       "      <td>21.1</td>\n",
       "      <td>24</td>\n",
       "      <td>14-Nov-15</td>\n",
       "    </tr>\n",
       "  </tbody>\n",
       "</table>\n",
       "<p>157 rows × 14 columns</p>\n",
       "</div>"
      ],
      "text/plain": [
       "                 Model  Sales in thousands 4-year resale value Vehicle type  \\\n",
       "0    Integra                        16.919               16.36    Passenger   \n",
       "1    TL                             39.384              19.875    Passenger   \n",
       "2    CL                             14.114              18.225    Passenger   \n",
       "3    RL                              8.588              29.725    Passenger   \n",
       "4    A4                             20.397              22.255    Passenger   \n",
       "..                 ...                 ...                 ...          ...   \n",
       "152  V40                             3.545                   .    Passenger   \n",
       "153  S70                            15.245                   .    Passenger   \n",
       "154  V70                            17.531                   .    Passenger   \n",
       "155  C70                             3.493                   .    Passenger   \n",
       "156  S80                            18.969                   .    Passenger   \n",
       "\n",
       "    Price in thousands Engine size Horsepower Wheelbase Width Length  \\\n",
       "0                 21.5         1.8        140     101.2  67.3  172.4   \n",
       "1                 28.4         3.2        225     108.1  70.3  192.9   \n",
       "2                    .         3.2        225     106.9  70.6    192   \n",
       "3                   42         3.5        210     114.6  71.4  196.6   \n",
       "4                23.99         1.8        150     102.6  68.2    178   \n",
       "..                 ...         ...        ...       ...   ...    ...   \n",
       "152               24.4         1.9        160     100.5  67.6  176.6   \n",
       "153               27.5         2.4        168     104.9  69.3  185.9   \n",
       "154               28.8         2.4        168     104.9  69.3  186.2   \n",
       "155               45.5         2.3        236     104.9  71.5  185.7   \n",
       "156                 36         2.9        201     109.9  72.1  189.8   \n",
       "\n",
       "    Curb weight Fuel capacity Fuel efficiency Latest Launch  \n",
       "0         2.639          13.2              28      2-Feb-14  \n",
       "1         3.517          17.2              25      6-Mar-15  \n",
       "2          3.47          17.2              26      1-Apr-14  \n",
       "3          3.85            18              22      3-Oct-15  \n",
       "4         2.998          16.4              27     10-Aug-15  \n",
       "..          ...           ...             ...           ...  \n",
       "152       3.042          15.8              25     21-Sep-15  \n",
       "153       3.208          17.9              25     24-Nov-14  \n",
       "154       3.259          17.9              25     25-Jun-15  \n",
       "155       3.601          18.5              23     26-Apr-15  \n",
       "156         3.6          21.1              24     14-Nov-15  \n",
       "\n",
       "[157 rows x 14 columns]"
      ]
     },
     "execution_count": 17,
     "metadata": {},
     "output_type": "execute_result"
    }
   ],
   "source": [
    "df.drop(columns=[df.isnull().sum().idxmax()])"
   ]
  },
  {
   "cell_type": "code",
   "execution_count": 18,
   "id": "a57bef62-bd84-4921-b7ba-58731ed7005e",
   "metadata": {},
   "outputs": [
    {
     "name": "stdout",
     "output_type": "stream",
     "text": [
      "Manufacturer           0\n",
      "Model                  0\n",
      "Sales in thousands     0\n",
      "4-year resale value    0\n",
      "Vehicle type           0\n",
      "Price in thousands     0\n",
      "Engine size            0\n",
      "Horsepower             0\n",
      "Wheelbase              0\n",
      "Width                  0\n",
      "Length                 0\n",
      "Curb weight            0\n",
      "Fuel capacity          0\n",
      "Fuel efficiency        0\n",
      "Latest Launch          0\n",
      "dtype: int64\n"
     ]
    }
   ],
   "source": [
    "print(df.isnull().sum())"
   ]
  },
  {
   "cell_type": "code",
   "execution_count": 21,
   "id": "8a204a71-0c78-46c2-9793-6f848453733f",
   "metadata": {},
   "outputs": [
    {
     "name": "stdout",
     "output_type": "stream",
     "text": [
      "Missing values before:\n",
      " Manufacturer           0\n",
      "Model                  0\n",
      "Sales in thousands     0\n",
      "4-year resale value    0\n",
      "Vehicle type           0\n",
      "Price in thousands     0\n",
      "Engine size            0\n",
      "Horsepower             0\n",
      "Wheelbase              0\n",
      "Width                  0\n",
      "Length                 0\n",
      "Curb weight            0\n",
      "Fuel capacity          0\n",
      "Fuel efficiency        0\n",
      "Latest Launch          0\n",
      "dtype: int64\n",
      "Missing values after:\n",
      " Manufacturer           0\n",
      "Model                  0\n",
      "Sales in thousands     0\n",
      "4-year resale value    0\n",
      "Vehicle type           0\n",
      "Price in thousands     0\n",
      "Engine size            0\n",
      "Horsepower             0\n",
      "Wheelbase              0\n",
      "Width                  0\n",
      "Length                 0\n",
      "Curb weight            0\n",
      "Fuel capacity          0\n",
      "Fuel efficiency        0\n",
      "Latest Launch          0\n",
      "dtype: int64\n",
      "    Manufacturer              Model  Sales in thousands 4-year resale value  \\\n",
      "0  Acura          Integra                        16.919               16.36   \n",
      "1  Acura          TL                             39.384              19.875   \n",
      "2  Acura          CL                             14.114              18.225   \n",
      "3  Acura          RL                              8.588              29.725   \n",
      "4  Audi           A4                             20.397              22.255   \n",
      "\n",
      "  Vehicle type Price in thousands Engine size Horsepower Wheelbase Width  \\\n",
      "0    Passenger               21.5         1.8        140     101.2  67.3   \n",
      "1    Passenger               28.4         3.2        225     108.1  70.3   \n",
      "2    Passenger                  .         3.2        225     106.9  70.6   \n",
      "3    Passenger                 42         3.5        210     114.6  71.4   \n",
      "4    Passenger              23.99         1.8        150     102.6  68.2   \n",
      "\n",
      "  Length Curb weight Fuel capacity Fuel efficiency Latest Launch  \n",
      "0  172.4       2.639          13.2              28      2-Feb-14  \n",
      "1  192.9       3.517          17.2              25      6-Mar-15  \n",
      "2    192        3.47          17.2              26      1-Apr-14  \n",
      "3  196.6        3.85            18              22      3-Oct-15  \n",
      "4    178       2.998          16.4              27     10-Aug-15  \n"
     ]
    }
   ],
   "source": [
    "import pandas as pd\n",
    "df = pd.read_csv(\"Car_sales.csv\")\n",
    "# Check missing values before imputation\n",
    "print(\"Missing values before:\\n\", df.isnull().sum())\n",
    "df[\"Sales in thousands\"].fillna(df[\"Sales in thousands\"].mean(),\n",
    "inplace=True)\n",
    "print(\"Missing values after:\\n\", df.isnull().sum())\n",
    "print(df.head())"
   ]
  },
  {
   "cell_type": "code",
   "execution_count": 23,
   "id": "b235a293-6b7a-4f8f-9055-c2806b9b00a3",
   "metadata": {},
   "outputs": [
    {
     "name": "stdout",
     "output_type": "stream",
     "text": [
      "\n",
      "Horsepower - Min: . \n",
      "      Manufacturer              Model  Sales in thousands 4-year resale value  \\\n",
      "33  Chrysler       Town & Country                  53.48               19.54   \n",
      "\n",
      "   Vehicle type Price in thousands Engine size Horsepower Wheelbase Width  \\\n",
      "33          Car                  .           .          .         .     .   \n",
      "\n",
      "   Length Curb weight Fuel capacity Fuel efficiency Latest Launch  \n",
      "33      .           .             .               .     13-Jul-15  \n",
      "\n",
      "Horsepower - Max: 92 \n",
      "      Manufacturer              Model  Sales in thousands 4-year resale value  \\\n",
      "62  Hyundai        Accent                         41.184                5.86   \n",
      "\n",
      "   Vehicle type Price in thousands Engine size Horsepower Wheelbase Width  \\\n",
      "62    Passenger              9.699         1.5         92      96.1  65.7   \n",
      "\n",
      "   Length Curb weight Fuel capacity Fuel efficiency Latest Launch  \n",
      "62  166.7        2.24          11.9              31      9-Oct-14  \n"
     ]
    }
   ],
   "source": [
    "# Import necessary library\n",
    "import pandas as pd\n",
    "\n",
    "# Load the dataset\n",
    "df = pd.read_csv(\"Car_sales.csv\")\n",
    "\n",
    "# Function to find min and max values of any column\n",
    "def find_min_max(df, column_name):\n",
    "    min_value = df[column_name].min()\n",
    "    max_value = df[column_name].max()\n",
    "    \n",
    "    # Find the rows with the min and max values\n",
    "    min_row = df[df[column_name] == min_value]\n",
    "    max_row = df[df[column_name] == max_value]\n",
    "    \n",
    "    return min_value, max_value, min_row, max_row\n",
    "\n",
    "# Call the function to find min and max for 'Horsepower'\n",
    "hp_min, hp_max, hp_min_row, hp_max_row = find_min_max(df, \"Horsepower\")\n",
    "\n",
    "# Print the results\n",
    "print(\"\\nHorsepower - Min:\", hp_min, \"\\n\", hp_min_row)\n",
    "print(\"\\nHorsepower - Max:\", hp_max, \"\\n\", hp_max_row)\n"
   ]
  },
  {
   "cell_type": "code",
   "execution_count": 26,
   "id": "da38c5ed-72d7-471d-8668-49f48c9069f0",
   "metadata": {},
   "outputs": [],
   "source": [
    "# Data Preprocessing and Encoding Techniques in Machine Learning\n",
    "\n",
    "## Importing Libraries\n",
    "\n",
    "#We will be using `pandas` for data manipulation and `LabelEncoder` from `sklearn` for encoding categorical data.\n"
   ]
  },
  {
   "cell_type": "code",
   "execution_count": 27,
   "id": "22885519-c220-4460-be94-0989babfe0e8",
   "metadata": {},
   "outputs": [],
   "source": [
    "import pandas as pd\n",
    "from sklearn.preprocessing import LabelEncoder\n",
    "\n"
   ]
  },
  {
   "cell_type": "code",
   "execution_count": 28,
   "id": "da163a6c-786c-4aea-b146-69721fae4191",
   "metadata": {},
   "outputs": [
    {
     "ename": "SyntaxError",
     "evalue": "invalid syntax (863898714.py, line 2)",
     "output_type": "error",
     "traceback": [
      "\u001b[0;36m  Cell \u001b[0;32mIn[28], line 2\u001b[0;36m\u001b[0m\n\u001b[0;31m    Label Encoding assigns a unique integer to each category. It is useful for ordinal data (where order matters).\u001b[0m\n\u001b[0m          ^\u001b[0m\n\u001b[0;31mSyntaxError\u001b[0m\u001b[0;31m:\u001b[0m invalid syntax\n"
     ]
    }
   ],
   "source": [
    "## Example: Label Encoding\n",
    "Label Encoding assigns a unique integer to each category. It is useful for ordinal data (where order matters).\n"
   ]
  },
  {
   "cell_type": "code",
   "execution_count": 29,
   "id": "a0d51744-c0c5-44a8-8c50-fa26d8f6db1f",
   "metadata": {},
   "outputs": [
    {
     "ename": "SyntaxError",
     "evalue": "invalid syntax (1140421787.py, line 2)",
     "output_type": "error",
     "traceback": [
      "\u001b[0;36m  Cell \u001b[0;32mIn[29], line 2\u001b[0;36m\u001b[0m\n\u001b[0;31m    Label Encoding assigns a unique integer to each category. It is useful for ordinal data (where order matters).\u001b[0m\n\u001b[0m          ^\u001b[0m\n\u001b[0;31mSyntaxError\u001b[0m\u001b[0;31m:\u001b[0m invalid syntax\n"
     ]
    }
   ],
   "source": [
    "## Label Encoding Example\n",
    "Label Encoding assigns a unique integer to each category. It is useful for ordinal data (where order matters).\n"
   ]
  },
  {
   "cell_type": "markdown",
   "id": "5de1e417-97f5-4c2d-9da9-8774cd2a62ef",
   "metadata": {},
   "source": [
    "## Label Encoding Example\n",
    "Label Encoding assigns a unique integer to each category. It is useful for ordinal data (where order matters).\n"
   ]
  },
  {
   "cell_type": "code",
   "execution_count": null,
   "id": "31c6effb-08cb-45bf-a9e1-c0a39b59b3ef",
   "metadata": {},
   "outputs": [],
   "source": []
  },
  {
   "cell_type": "code",
   "execution_count": null,
   "id": "88f4e5f2-1737-4be0-b7e3-0acf258de286",
   "metadata": {},
   "outputs": [],
   "source": []
  },
  {
   "cell_type": "code",
   "execution_count": null,
   "id": "05c2fd1c-4153-4b63-8ffc-62b3d614d2b1",
   "metadata": {},
   "outputs": [],
   "source": []
  },
  {
   "cell_type": "code",
   "execution_count": null,
   "id": "98561522-54e3-4fee-b41a-3e99aaebe1c1",
   "metadata": {},
   "outputs": [],
   "source": []
  },
  {
   "cell_type": "code",
   "execution_count": null,
   "id": "a7f75749-1efe-49c9-b5e6-40bfcd353484",
   "metadata": {},
   "outputs": [],
   "source": []
  },
  {
   "cell_type": "code",
   "execution_count": null,
   "id": "d8cd1712-108a-4f70-8988-2c83fad9147a",
   "metadata": {},
   "outputs": [],
   "source": []
  },
  {
   "cell_type": "markdown",
   "id": "e08935c2-3507-422a-b689-7c9904ab7a61",
   "metadata": {},
   "source": [
    "# Data Preprocessing and Encoding Techniques in Machine Learning\n",
    "\n",
    "## Importing Libraries\n",
    "We will be using `pandas` for data manipulation and `LabelEncoder` from `sklearn` for encoding categorical data.\n"
   ]
  },
  {
   "cell_type": "code",
   "execution_count": 30,
   "id": "af192479-407b-4515-b5ae-a8c761d3a63c",
   "metadata": {},
   "outputs": [],
   "source": [
    "import pandas as pd\n",
    "from sklearn.preprocessing import LabelEncoder\n"
   ]
  },
  {
   "cell_type": "markdown",
   "id": "f68f7fa8-3083-484d-904c-a8fb0b51872c",
   "metadata": {},
   "source": [
    "## Example: Label Encoding\n",
    "Label Encoding assigns a unique integer to each category. It is useful for ordinal data (where order matters).\n"
   ]
  },
  {
   "cell_type": "code",
   "execution_count": 31,
   "id": "b4f15e61-6a04-4445-80a1-f6232afdf5b3",
   "metadata": {},
   "outputs": [
    {
     "name": "stdout",
     "output_type": "stream",
     "text": [
      "    Color  Color_encoded\n",
      "0     Red              2\n",
      "1    Blue              0\n",
      "2   Green              1\n",
      "3    Blue              0\n",
      "4     Red              2\n",
      "5  Yellow              3\n"
     ]
    }
   ],
   "source": [
    "# Sample data\n",
    "data = {'Color': ['Red', 'Blue', 'Green', 'Blue', 'Red', 'Yellow']}\n",
    "df = pd.DataFrame(data)\n",
    "\n",
    "# Applying Label Encoding\n",
    "encoder = LabelEncoder()\n",
    "df['Color_encoded'] = encoder.fit_transform(df['Color'])\n",
    "\n",
    "# Display the DataFrame\n",
    "print(df)\n"
   ]
  },
  {
   "cell_type": "code",
   "execution_count": null,
   "id": "7207dcca-0e5f-4c9a-b4a8-a0497fc4ef72",
   "metadata": {},
   "outputs": [],
   "source": []
  }
 ],
 "metadata": {
  "kernelspec": {
   "display_name": "Python 3 (ipykernel)",
   "language": "python",
   "name": "python3"
  },
  "language_info": {
   "codemirror_mode": {
    "name": "ipython",
    "version": 3
   },
   "file_extension": ".py",
   "mimetype": "text/x-python",
   "name": "python",
   "nbconvert_exporter": "python",
   "pygments_lexer": "ipython3",
   "version": "3.11.7"
  }
 },
 "nbformat": 4,
 "nbformat_minor": 5
}
